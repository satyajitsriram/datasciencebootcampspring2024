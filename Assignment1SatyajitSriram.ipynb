{
 "cells": [
  {
   "cell_type": "markdown",
   "id": "6dd096a6",
   "metadata": {},
   "source": [
    "## Satyajit Sriram Assignment 1 Submission"
   ]
  },
  {
   "cell_type": "markdown",
   "id": "6bd519bb",
   "metadata": {},
   "source": [
    "###### Solutions to all questions in functions to observe modularity"
   ]
  },
  {
   "cell_type": "markdown",
   "id": "af09be63",
   "metadata": {},
   "source": [
    "##### Question 1. Write a function  count_vowels(word) that takes a word as an argument and returns the number of vowels in the word"
   ]
  },
  {
   "cell_type": "code",
   "execution_count": 1,
   "id": "cf27c4f2",
   "metadata": {},
   "outputs": [],
   "source": [
    "def count_vowels(word):\n",
    "    vowels=0\n",
    "    for letter in word:\n",
    "        if letter.lower() in 'aeiou':\n",
    "            vowels=vowels+1\n",
    "        else:\n",
    "            continue\n",
    "    print(vowels)"
   ]
  },
  {
   "cell_type": "markdown",
   "id": "3b6fddab",
   "metadata": {},
   "source": [
    "###### Testing our function"
   ]
  },
  {
   "cell_type": "code",
   "execution_count": 2,
   "id": "9db7e539",
   "metadata": {},
   "outputs": [
    {
     "name": "stdout",
     "output_type": "stream",
     "text": [
      "6\n"
     ]
    }
   ],
   "source": [
    "count_vowels(\"this is not a joke\")"
   ]
  },
  {
   "cell_type": "markdown",
   "id": "875616c0",
   "metadata": {},
   "source": [
    "##### 2. Iterate through the following list of animals and print each one in all caps.\n",
    "##### animals=['tiger', 'elephant', 'monkey', 'zebra', 'panther']"
   ]
  },
  {
   "cell_type": "code",
   "execution_count": 3,
   "id": "8d8af9b7",
   "metadata": {},
   "outputs": [],
   "source": [
    "animals=['tiger', 'elephant', 'monkey', 'zebra', 'panther']"
   ]
  },
  {
   "cell_type": "code",
   "execution_count": 4,
   "id": "342d0c33",
   "metadata": {},
   "outputs": [],
   "source": [
    "def print_caps(animals):\n",
    "    for animal in animals:\n",
    "        print(animal.upper())"
   ]
  },
  {
   "cell_type": "code",
   "execution_count": 5,
   "id": "5aef581a",
   "metadata": {},
   "outputs": [
    {
     "name": "stdout",
     "output_type": "stream",
     "text": [
      "TIGER\n",
      "ELEPHANT\n",
      "MONKEY\n",
      "ZEBRA\n",
      "PANTHER\n"
     ]
    }
   ],
   "source": [
    "print_caps(animals)"
   ]
  },
  {
   "cell_type": "markdown",
   "id": "cebb9753",
   "metadata": {},
   "source": [
    "##### 3. Write a program that iterates from 1 to 20, printing each number and whether it's odd or even."
   ]
  },
  {
   "cell_type": "code",
   "execution_count": 6,
   "id": "acf8a84b",
   "metadata": {},
   "outputs": [],
   "source": [
    "def printoddeven(number):\n",
    "    float(number)\n",
    "    number=number+1\n",
    "    for i in range(1,number):\n",
    "        print(i)\n",
    "        if(i%2==0):\n",
    "            print(f\"{i} is even\")\n",
    "        else:\n",
    "            print(f\"{i} is odd\")"
   ]
  },
  {
   "cell_type": "code",
   "execution_count": 7,
   "id": "5f270f34",
   "metadata": {},
   "outputs": [
    {
     "name": "stdout",
     "output_type": "stream",
     "text": [
      "1\n",
      "1 is odd\n",
      "2\n",
      "2 is even\n",
      "3\n",
      "3 is odd\n",
      "4\n",
      "4 is even\n",
      "5\n",
      "5 is odd\n",
      "6\n",
      "6 is even\n",
      "7\n",
      "7 is odd\n",
      "8\n",
      "8 is even\n",
      "9\n",
      "9 is odd\n",
      "10\n",
      "10 is even\n",
      "11\n",
      "11 is odd\n",
      "12\n",
      "12 is even\n",
      "13\n",
      "13 is odd\n",
      "14\n",
      "14 is even\n",
      "15\n",
      "15 is odd\n",
      "16\n",
      "16 is even\n",
      "17\n",
      "17 is odd\n",
      "18\n",
      "18 is even\n",
      "19\n",
      "19 is odd\n",
      "20\n",
      "20 is even\n"
     ]
    }
   ],
   "source": [
    "printoddeven(20)"
   ]
  },
  {
   "cell_type": "markdown",
   "id": "05570aa7",
   "metadata": {},
   "source": [
    "##### 4. Write a function sum_of_integers(a, b) that takes two integers as input from the user and returns their sum."
   ]
  },
  {
   "cell_type": "code",
   "execution_count": 8,
   "id": "eba3ccbc",
   "metadata": {},
   "outputs": [],
   "source": [
    "def sum_of_integers(a,b):\n",
    "    float(a)\n",
    "    float(b)\n",
    "    return a+b"
   ]
  },
  {
   "cell_type": "code",
   "execution_count": 9,
   "id": "2c480f67",
   "metadata": {},
   "outputs": [
    {
     "data": {
      "text/plain": [
       "31"
      ]
     },
     "execution_count": 9,
     "metadata": {},
     "output_type": "execute_result"
    }
   ],
   "source": [
    "sum_of_integers(5,26)"
   ]
  }
 ],
 "metadata": {
  "kernelspec": {
   "display_name": "Python 3 (ipykernel)",
   "language": "python",
   "name": "python3"
  },
  "language_info": {
   "codemirror_mode": {
    "name": "ipython",
    "version": 3
   },
   "file_extension": ".py",
   "mimetype": "text/x-python",
   "name": "python",
   "nbconvert_exporter": "python",
   "pygments_lexer": "ipython3",
   "version": "3.11.4"
  }
 },
 "nbformat": 4,
 "nbformat_minor": 5
}
